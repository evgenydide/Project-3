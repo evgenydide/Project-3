{
 "cells": [
  {
   "cell_type": "code",
   "execution_count": null,
   "id": "1f85b397-f344-4e8a-987b-ad6082a7bdd5",
   "metadata": {},
   "outputs": [],
   "source": [
    "#Abandoned notebook, models run for over 3 minutes each due to 20,000 columns in our data. \n",
    "\n",
    "import numpy as np\n",
    "import pandas as pd\n",
    "import matplotlib.pyplot as plt\n",
    "import seaborn as sns\n",
    "from sklearn.model_selection import  GridSearchCV,train_test_split\n",
    "from sklearn.svm import SVC\n",
    "from sklearn.preprocessing import StandardScaler"
   ]
  },
  {
   "cell_type": "code",
   "execution_count": null,
   "id": "c866f7d6-3d81-470d-9aae-3b6579920460",
   "metadata": {},
   "outputs": [],
   "source": [
    "X=pd.read_csv('data/vectorised_words.csv')\n",
    "y=pd.get_dummies(pd.read_csv('data/reddit_cleaned.csv')['subreddit'], drop_first=True)['relationships']\n",
    "X_train,X_test,y_train,y_test=train_test_split(X,y,test_size=0.1, train_size=0.9, random_state=11)\n",
    "\n",
    "sc=StandardScaler()\n",
    "X_sc=sc.fit_transform(X_train)\n",
    "X_test_sc=sc.transform(X_test)"
   ]
  },
  {
   "cell_type": "code",
   "execution_count": null,
   "id": "29d6cdee-3db6-492f-b247-18d9ec40907c",
   "metadata": {},
   "outputs": [
    {
     "name": "stderr",
     "output_type": "stream",
     "text": [
      "C:\\Users\\raild\\anaconda3\\lib\\site-packages\\sklearn\\base.py:450: UserWarning: X does not have valid feature names, but SVC was fitted with feature names\n",
      "  warnings.warn(\n"
     ]
    },
    {
     "name": "stdout",
     "output_type": "stream",
     "text": [
      "Train score is 0.512\n"
     ]
    },
    {
     "name": "stderr",
     "output_type": "stream",
     "text": [
      "C:\\Users\\raild\\anaconda3\\lib\\site-packages\\sklearn\\base.py:450: UserWarning: X does not have valid feature names, but SVC was fitted with feature names\n",
      "  warnings.warn(\n"
     ]
    },
    {
     "name": "stdout",
     "output_type": "stream",
     "text": [
      "Test score is 0.482\n"
     ]
    }
   ],
   "source": [
    "#lets start with good models and then move to worse ones. \n",
    "sv=SVC()\n",
    "sv.fit(X_sc,y_train)\n",
    "print(f'Train score is {round(sv.score(X_sc,y_train),3)}')\n",
    "print(f'Test score is {round(sv.score(X_test_sc,y_test),3)}')\n",
    "#Model is overfit. It is less overfit without scaling but afaik it is poor taste. \n",
    "#Lets try playing with C, although I am reluctant because this is very slow. "
   ]
  },
  {
   "cell_type": "code",
   "execution_count": 6,
   "id": "7a2d1ef1-1a49-4aed-8fdd-701e5ffbd5bd",
   "metadata": {},
   "outputs": [],
   "source": [
    "#200 seconds to run one model. I don't think that grid search or cross validation are feasible. \n",
    "#It would take 90 minutes to run 5 parameters. Lets just try to manually find better C"
   ]
  },
  {
   "cell_type": "code",
   "execution_count": 9,
   "id": "32c01dc4-8aa4-440c-a28d-2d3a94f309c8",
   "metadata": {},
   "outputs": [
    {
     "name": "stdout",
     "output_type": "stream",
     "text": [
      "Train score is 0.607\n",
      "Test score is 0.489\n"
     ]
    }
   ],
   "source": [
    "sv=SVC(C=0.1)\n",
    "sv.fit(X_sc,y_train)\n",
    "print(f'Train score is {round(sv.score(X_sc,y_train),3)}')\n",
    "print(f'Test score is {round(sv.score(X_test_sc,y_test),3)}')\n",
    "#It got worse"
   ]
  },
  {
   "cell_type": "code",
   "execution_count": 10,
   "id": "58f3bacb-c9bf-414b-96af-b7dfb42c578f",
   "metadata": {},
   "outputs": [
    {
     "name": "stdout",
     "output_type": "stream",
     "text": [
      "Train score is 1.0\n",
      "Test score is 0.819\n"
     ]
    }
   ],
   "source": [
    "sv=SVC(C=10)\n",
    "sv.fit(X_sc,y_train)\n",
    "print(f'Train score is {round(sv.score(X_sc,y_train),3)}')\n",
    "print(f'Test score is {round(sv.score(X_test_sc,y_test),3)}')"
   ]
  },
  {
   "cell_type": "code",
   "execution_count": 12,
   "id": "6df21b81-5fac-4380-8c07-7250d251e9e4",
   "metadata": {},
   "outputs": [
    {
     "name": "stdout",
     "output_type": "stream",
     "text": [
      "Train score is 0.994\n",
      "Test score is 0.928\n"
     ]
    }
   ],
   "source": [
    "#sidestep: what if we excluded a LOT of words? \n",
    "X=pd.read_csv('data/words_few.csv')\n",
    "y=pd.get_dummies(pd.read_csv('data/reddit_cleaned.csv')['subreddit'], drop_first=True)['relationships']\n",
    "X_train,X_test,y_train,y_test=train_test_split(X,y,test_size=0.1, train_size=0.9, random_state=11)\n",
    "sv=SVC()\n",
    "sc=StandardScaler()\n",
    "X_sc=sc.fit_transform(X_train)\n",
    "X_test_sc=sc.transform(X_test)\n",
    "sv.fit(X_sc,y_train)\n",
    "print(f'Train score is {round(sv.score(X_sc,y_train),3)}')\n",
    "print(f'Test score is {round(sv.score(X_test_sc,y_test),3)}')\n",
    "#Apparently, our model is still pretty great, bias is very small and variance although still large, got smaller\n",
    "#I can run gridsearch with this. Well, a small one. "
   ]
  },
  {
   "cell_type": "code",
   "execution_count": 15,
   "id": "fa39b204-6bbe-4da8-8846-baba007d433b",
   "metadata": {},
   "outputs": [
    {
     "name": "stdout",
     "output_type": "stream",
     "text": [
      "Train score is 1.0\n",
      "Test score is 0.822\n"
     ]
    }
   ],
   "source": [
    "#It is not smart, but I want to finish this. Lets see if I can find optimal C for this model.\n",
    "sv=SVC(C=100)\n",
    "sv.fit(X_sc,y_train)\n",
    "print(f'Train score is {round(sv.score(X_sc,y_train),3)}')\n",
    "print(f'Test score is {round(sv.score(X_test_sc,y_test),3)}')"
   ]
  },
  {
   "cell_type": "code",
   "execution_count": 16,
   "id": "7556a74a-d596-4453-a991-07ea3853be42",
   "metadata": {},
   "outputs": [
    {
     "name": "stdout",
     "output_type": "stream",
     "text": [
      "Train score is 1.0\n",
      "Test score is 0.822\n"
     ]
    }
   ],
   "source": [
    "#did I overshoot or is this the limit? \n",
    "sv=SVC(C=10000)\n",
    "sv.fit(X_sc,y_train)\n",
    "print(f'Train score is {round(sv.score(X_sc,y_train),3)}')\n",
    "print(f'Test score is {round(sv.score(X_test_sc,y_test),3)}')"
   ]
  },
  {
   "cell_type": "code",
   "execution_count": 17,
   "id": "ce3e3b9d-717c-4e29-9966-806d0be925d7",
   "metadata": {},
   "outputs": [
    {
     "name": "stdout",
     "output_type": "stream",
     "text": [
      "Train score is 1.0\n",
      "Test score is 0.822\n"
     ]
    }
   ],
   "source": [
    "sv=SVC(C=10000000)\n",
    "sv.fit(X_sc,y_train)\n",
    "print(f'Train score is {round(sv.score(X_sc,y_train),3)}')\n",
    "print(f'Test score is {round(sv.score(X_test_sc,y_test),3)}')"
   ]
  },
  {
   "cell_type": "code",
   "execution_count": null,
   "id": "ccee6719-656b-42f3-9d09-ab6e3f0abf8b",
   "metadata": {},
   "outputs": [],
   "source": []
  }
 ],
 "metadata": {
  "kernelspec": {
   "display_name": "Python 3 (ipykernel)",
   "language": "python",
   "name": "python3"
  },
  "language_info": {
   "codemirror_mode": {
    "name": "ipython",
    "version": 3
   },
   "file_extension": ".py",
   "mimetype": "text/x-python",
   "name": "python",
   "nbconvert_exporter": "python",
   "pygments_lexer": "ipython3",
   "version": "3.9.12"
  }
 },
 "nbformat": 4,
 "nbformat_minor": 5
}
