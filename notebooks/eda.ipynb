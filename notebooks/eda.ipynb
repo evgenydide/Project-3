{
 "cells": [
  {
   "cell_type": "code",
   "execution_count": 1,
   "id": "1c5ba46a-9dff-486e-8930-c10a9db4c8a2",
   "metadata": {},
   "outputs": [],
   "source": [
    "import numpy as np\n",
    "import pandas as pd\n",
    "import matplotlib.pyplot as plt\n",
    "import seaborn as sns\n",
    "\n",
    "from sklearn.feature_extraction.text import CountVectorizer\n",
    "import nltk\n",
    "from nltk.corpus import stopwords"
   ]
  },
  {
   "cell_type": "code",
   "execution_count": 2,
   "id": "392ff3d2-b45e-4658-bb50-5a4b097547ca",
   "metadata": {},
   "outputs": [
    {
     "data": {
      "text/html": [
       "<div>\n",
       "<style scoped>\n",
       "    .dataframe tbody tr th:only-of-type {\n",
       "        vertical-align: middle;\n",
       "    }\n",
       "\n",
       "    .dataframe tbody tr th {\n",
       "        vertical-align: top;\n",
       "    }\n",
       "\n",
       "    .dataframe thead th {\n",
       "        text-align: right;\n",
       "    }\n",
       "</style>\n",
       "<table border=\"1\" class=\"dataframe\">\n",
       "  <thead>\n",
       "    <tr style=\"text-align: right;\">\n",
       "      <th></th>\n",
       "      <th>subreddit</th>\n",
       "      <th>selftext</th>\n",
       "      <th>title</th>\n",
       "    </tr>\n",
       "  </thead>\n",
       "  <tbody>\n",
       "    <tr>\n",
       "      <th>0</th>\n",
       "      <td>relationships</td>\n",
       "      <td>My boyfriend (23M) got upset with me I don’t t...</td>\n",
       "      <td>Boyfriend expects me to tell him everything</td>\n",
       "    </tr>\n",
       "    <tr>\n",
       "      <th>1</th>\n",
       "      <td>relationships</td>\n",
       "      <td>\\r\\n\\r\\n\\r\\n\\r\\nI (f22) have always been blame...</td>\n",
       "      <td>Am i a bad child for having broken up my famil...</td>\n",
       "    </tr>\n",
       "    <tr>\n",
       "      <th>2</th>\n",
       "      <td>relationships</td>\n",
       "      <td>I (25 F) and my boyfriend (26 M) have been tog...</td>\n",
       "      <td>Boyfriend puked all over our bed when drunk</td>\n",
       "    </tr>\n",
       "    <tr>\n",
       "      <th>3</th>\n",
       "      <td>relationships</td>\n",
       "      <td>She'll never admit it, but it really seems lik...</td>\n",
       "      <td>My girlfriend doesn't like me having a hobby</td>\n",
       "    </tr>\n",
       "    <tr>\n",
       "      <th>4</th>\n",
       "      <td>relationships</td>\n",
       "      <td>As the title said, we had a conversation about...</td>\n",
       "      <td>I (24M) had a tough conversation with my GF (2...</td>\n",
       "    </tr>\n",
       "    <tr>\n",
       "      <th>...</th>\n",
       "      <td>...</td>\n",
       "      <td>...</td>\n",
       "      <td>...</td>\n",
       "    </tr>\n",
       "    <tr>\n",
       "      <th>2836</th>\n",
       "      <td>AmItheAsshole</td>\n",
       "      <td>I (14f) do paper rounds in my small town. Toda...</td>\n",
       "      <td>AITA for moving someone’s bins without their p...</td>\n",
       "    </tr>\n",
       "    <tr>\n",
       "      <th>2837</th>\n",
       "      <td>AmItheAsshole</td>\n",
       "      <td>Sorry for the bad formatting I'm on mobile.\\r\\...</td>\n",
       "      <td>AITA For Being Distrustful Of My Girlfriend?</td>\n",
       "    </tr>\n",
       "    <tr>\n",
       "      <th>2838</th>\n",
       "      <td>AmItheAsshole</td>\n",
       "      <td>Hi everybody. I’m posting this through my daug...</td>\n",
       "      <td>AITA for canceling a dinner party during it?</td>\n",
       "    </tr>\n",
       "    <tr>\n",
       "      <th>2839</th>\n",
       "      <td>AmItheAsshole</td>\n",
       "      <td>I (22f) and my friend (23f) have known each ot...</td>\n",
       "      <td>AITA for telling my friend to break up with he...</td>\n",
       "    </tr>\n",
       "    <tr>\n",
       "      <th>2840</th>\n",
       "      <td>AmItheAsshole</td>\n",
       "      <td>Context - London. I recently started a new job...</td>\n",
       "      <td>AITA for being the only one keeping my camera ...</td>\n",
       "    </tr>\n",
       "  </tbody>\n",
       "</table>\n",
       "<p>2841 rows × 3 columns</p>\n",
       "</div>"
      ],
      "text/plain": [
       "          subreddit                                           selftext  \\\n",
       "0     relationships  My boyfriend (23M) got upset with me I don’t t...   \n",
       "1     relationships  \\r\\n\\r\\n\\r\\n\\r\\nI (f22) have always been blame...   \n",
       "2     relationships  I (25 F) and my boyfriend (26 M) have been tog...   \n",
       "3     relationships  She'll never admit it, but it really seems lik...   \n",
       "4     relationships  As the title said, we had a conversation about...   \n",
       "...             ...                                                ...   \n",
       "2836  AmItheAsshole  I (14f) do paper rounds in my small town. Toda...   \n",
       "2837  AmItheAsshole  Sorry for the bad formatting I'm on mobile.\\r\\...   \n",
       "2838  AmItheAsshole  Hi everybody. I’m posting this through my daug...   \n",
       "2839  AmItheAsshole  I (22f) and my friend (23f) have known each ot...   \n",
       "2840  AmItheAsshole  Context - London. I recently started a new job...   \n",
       "\n",
       "                                                  title  \n",
       "0           Boyfriend expects me to tell him everything  \n",
       "1     Am i a bad child for having broken up my famil...  \n",
       "2           Boyfriend puked all over our bed when drunk  \n",
       "3          My girlfriend doesn't like me having a hobby  \n",
       "4     I (24M) had a tough conversation with my GF (2...  \n",
       "...                                                 ...  \n",
       "2836  AITA for moving someone’s bins without their p...  \n",
       "2837       AITA For Being Distrustful Of My Girlfriend?  \n",
       "2838       AITA for canceling a dinner party during it?  \n",
       "2839  AITA for telling my friend to break up with he...  \n",
       "2840  AITA for being the only one keeping my camera ...  \n",
       "\n",
       "[2841 rows x 3 columns]"
      ]
     },
     "execution_count": 2,
     "metadata": {},
     "output_type": "execute_result"
    }
   ],
   "source": [
    "df=pd.read_csv('data/reddit.csv')\n",
    "df"
   ]
  },
  {
   "cell_type": "code",
   "execution_count": 3,
   "id": "671b0b20-a43e-4aa7-8eb6-5cc68d173c12",
   "metadata": {},
   "outputs": [
    {
     "data": {
      "text/html": [
       "<div>\n",
       "<style scoped>\n",
       "    .dataframe tbody tr th:only-of-type {\n",
       "        vertical-align: middle;\n",
       "    }\n",
       "\n",
       "    .dataframe tbody tr th {\n",
       "        vertical-align: top;\n",
       "    }\n",
       "\n",
       "    .dataframe thead th {\n",
       "        text-align: right;\n",
       "    }\n",
       "</style>\n",
       "<table border=\"1\" class=\"dataframe\">\n",
       "  <thead>\n",
       "    <tr style=\"text-align: right;\">\n",
       "      <th></th>\n",
       "      <th>subreddit</th>\n",
       "      <th>selftext</th>\n",
       "      <th>title</th>\n",
       "    </tr>\n",
       "  </thead>\n",
       "  <tbody>\n",
       "    <tr>\n",
       "      <th>0</th>\n",
       "      <td>relationships</td>\n",
       "      <td>My boyfriend (23M) got upset with me I don’t t...</td>\n",
       "      <td>Boyfriend expects me to tell him everything</td>\n",
       "    </tr>\n",
       "    <tr>\n",
       "      <th>1</th>\n",
       "      <td>relationships</td>\n",
       "      <td>\\r\\n\\r\\n\\r\\n\\r\\nI (f22) have always been blame...</td>\n",
       "      <td>Am i a bad child for having broken up my famil...</td>\n",
       "    </tr>\n",
       "    <tr>\n",
       "      <th>2</th>\n",
       "      <td>relationships</td>\n",
       "      <td>I (25 F) and my boyfriend (26 M) have been tog...</td>\n",
       "      <td>Boyfriend puked all over our bed when drunk</td>\n",
       "    </tr>\n",
       "    <tr>\n",
       "      <th>3</th>\n",
       "      <td>relationships</td>\n",
       "      <td>She'll never admit it, but it really seems lik...</td>\n",
       "      <td>My girlfriend doesn't like me having a hobby</td>\n",
       "    </tr>\n",
       "    <tr>\n",
       "      <th>4</th>\n",
       "      <td>relationships</td>\n",
       "      <td>As the title said, we had a conversation about...</td>\n",
       "      <td>I (24M) had a tough conversation with my GF (2...</td>\n",
       "    </tr>\n",
       "    <tr>\n",
       "      <th>...</th>\n",
       "      <td>...</td>\n",
       "      <td>...</td>\n",
       "      <td>...</td>\n",
       "    </tr>\n",
       "    <tr>\n",
       "      <th>2836</th>\n",
       "      <td>AmItheAsshole</td>\n",
       "      <td>I (14f) do paper rounds in my small town. Toda...</td>\n",
       "      <td>AITA for moving someone’s bins without their p...</td>\n",
       "    </tr>\n",
       "    <tr>\n",
       "      <th>2837</th>\n",
       "      <td>AmItheAsshole</td>\n",
       "      <td>Sorry for the bad formatting I'm on mobile.\\r\\...</td>\n",
       "      <td>AITA For Being Distrustful Of My Girlfriend?</td>\n",
       "    </tr>\n",
       "    <tr>\n",
       "      <th>2838</th>\n",
       "      <td>AmItheAsshole</td>\n",
       "      <td>Hi everybody. I’m posting this through my daug...</td>\n",
       "      <td>AITA for canceling a dinner party during it?</td>\n",
       "    </tr>\n",
       "    <tr>\n",
       "      <th>2839</th>\n",
       "      <td>AmItheAsshole</td>\n",
       "      <td>I (22f) and my friend (23f) have known each ot...</td>\n",
       "      <td>AITA for telling my friend to break up with he...</td>\n",
       "    </tr>\n",
       "    <tr>\n",
       "      <th>2840</th>\n",
       "      <td>AmItheAsshole</td>\n",
       "      <td>Context - London. I recently started a new job...</td>\n",
       "      <td>AITA for being the only one keeping my camera ...</td>\n",
       "    </tr>\n",
       "  </tbody>\n",
       "</table>\n",
       "<p>2792 rows × 3 columns</p>\n",
       "</div>"
      ],
      "text/plain": [
       "          subreddit                                           selftext  \\\n",
       "0     relationships  My boyfriend (23M) got upset with me I don’t t...   \n",
       "1     relationships  \\r\\n\\r\\n\\r\\n\\r\\nI (f22) have always been blame...   \n",
       "2     relationships  I (25 F) and my boyfriend (26 M) have been tog...   \n",
       "3     relationships  She'll never admit it, but it really seems lik...   \n",
       "4     relationships  As the title said, we had a conversation about...   \n",
       "...             ...                                                ...   \n",
       "2836  AmItheAsshole  I (14f) do paper rounds in my small town. Toda...   \n",
       "2837  AmItheAsshole  Sorry for the bad formatting I'm on mobile.\\r\\...   \n",
       "2838  AmItheAsshole  Hi everybody. I’m posting this through my daug...   \n",
       "2839  AmItheAsshole  I (22f) and my friend (23f) have known each ot...   \n",
       "2840  AmItheAsshole  Context - London. I recently started a new job...   \n",
       "\n",
       "                                                  title  \n",
       "0           Boyfriend expects me to tell him everything  \n",
       "1     Am i a bad child for having broken up my famil...  \n",
       "2           Boyfriend puked all over our bed when drunk  \n",
       "3          My girlfriend doesn't like me having a hobby  \n",
       "4     I (24M) had a tough conversation with my GF (2...  \n",
       "...                                                 ...  \n",
       "2836  AITA for moving someone’s bins without their p...  \n",
       "2837       AITA For Being Distrustful Of My Girlfriend?  \n",
       "2838       AITA for canceling a dinner party during it?  \n",
       "2839  AITA for telling my friend to break up with he...  \n",
       "2840  AITA for being the only one keeping my camera ...  \n",
       "\n",
       "[2792 rows x 3 columns]"
      ]
     },
     "execution_count": 3,
     "metadata": {},
     "output_type": "execute_result"
    }
   ],
   "source": [
    "#Lets check for duplicates\n",
    "df.drop_duplicates(['title'])\n",
    "#so. All my data is garbage. brb. \n",
    "#I think I fixed the previous notebook. Lets restart the kernel here. \n",
    "#Somehow there are still about 60 duplicates. I don't want to look into it, lets just get rid of them. "
   ]
  },
  {
   "cell_type": "code",
   "execution_count": 4,
   "id": "a3240526-c70a-4f75-98f1-9ab1ba075153",
   "metadata": {},
   "outputs": [
    {
     "data": {
      "text/plain": [
       "(2753, 3)"
      ]
     },
     "execution_count": 4,
     "metadata": {},
     "output_type": "execute_result"
    }
   ],
   "source": [
    "df=df.drop_duplicates(['title'])\n",
    "df=df.drop_duplicates(['selftext'])\n",
    "df.shape"
   ]
  },
  {
   "cell_type": "code",
   "execution_count": 5,
   "id": "a864fe74-9da3-47ce-a98c-d974b0f25b2a",
   "metadata": {},
   "outputs": [
    {
     "data": {
      "text/plain": [
       "(2752, 3)"
      ]
     },
     "execution_count": 5,
     "metadata": {},
     "output_type": "execute_result"
    }
   ],
   "source": [
    "#lets get rid of nulls as well.  \n",
    "df=df.dropna()\n",
    "#now I need to save it again\n",
    "df.to_csv('data/reddit_cleaned.csv',index=False)\n",
    "df.shape"
   ]
  },
  {
   "cell_type": "code",
   "execution_count": 6,
   "id": "1f12327d-0ec3-4286-b105-916a2dd92e26",
   "metadata": {},
   "outputs": [],
   "source": [
    "#We can take a loot at the wordcount and the character count for both titles and posts.  \n",
    "word_count_text=[len(i.split()) for i in df['selftext'].tolist()]\n",
    "word_count_title=[len(i.split()) for i in df['title'].tolist()]"
   ]
  },
  {
   "cell_type": "code",
   "execution_count": 7,
   "id": "7a35b9c0-6c44-47d7-91fb-0d6fe80cb747",
   "metadata": {},
   "outputs": [
    {
     "data": {
      "image/png": "[encoded data removed]",
      "text/plain": [
       "<Figure size 1440x576 with 1 Axes>"
      ]
     },
     "metadata": {
      "needs_background": "light"
     },
     "output_type": "display_data"
    }
   ],
   "source": [
    "plt.figure(figsize=(20,8))\n",
    "plt.hist(word_count_text,bins=20)\n",
    "\n",
    "plt.xlabel('Post length in words') \n",
    "plt.ylabel('Number of occurances') \n",
    "plt.title(\"Distribution of post lengths in words\");"
   ]
  },
  {
   "cell_type": "code",
   "execution_count": 8,
   "id": "96073fe7-0b4f-4bd4-b932-7b86ade7b205",
   "metadata": {},
   "outputs": [
    {
     "data": {
      "image/png": "[encoded data removed]",
      "text/plain": [
       "<Figure size 1440x576 with 1 Axes>"
      ]
     },
     "metadata": {
      "needs_background": "light"
     },
     "output_type": "display_data"
    }
   ],
   "source": [
    "plt.figure(figsize=(20,8))\n",
    "plt.hist(word_count_title,bins=20)\n",
    "\n",
    "plt.xlabel('Title length in words') \n",
    "plt.ylabel('Number of occurances') \n",
    "plt.title(\"Distribution of title lengths in words\");"
   ]
  },
  {
   "cell_type": "code",
   "execution_count": 9,
   "id": "8686de55-44c8-4cf3-b95a-8101e93c315c",
   "metadata": {},
   "outputs": [
    {
     "data": {
      "image/png": "[encoded data removed]",
      "text/plain": [
       "<Figure size 1440x576 with 1 Axes>"
      ]
     },
     "metadata": {
      "needs_background": "light"
     },
     "output_type": "display_data"
    }
   ],
   "source": [
    "chara_count_text=[len(i) for i in df['selftext'].tolist()]\n",
    "chara_count_title=[len(i) for i in df['title'].tolist()]\n",
    "plt.figure(figsize=(20,8))\n",
    "plt.hist(chara_count_text,bins=20)\n",
    "\n",
    "plt.xlabel('Text length in characters') \n",
    "plt.ylabel('Number of occurances') \n",
    "plt.title(\"Distribution of text lengths in characters\");"
   ]
  },
  {
   "cell_type": "code",
   "execution_count": 10,
   "id": "4b9ca8b4-d7dd-443a-8a1f-52790700fec2",
   "metadata": {},
   "outputs": [
    {
     "data": {
      "image/png": "[encoded data removed]",
      "text/plain": [
       "<Figure size 1440x576 with 1 Axes>"
      ]
     },
     "metadata": {
      "needs_background": "light"
     },
     "output_type": "display_data"
    }
   ],
   "source": [
    "plt.figure(figsize=(20,8))\n",
    "plt.hist(chara_count_title,bins=20)\n",
    "\n",
    "plt.xlabel('Title length in characters') \n",
    "plt.ylabel('Number of occurances') \n",
    "plt.title(\"Distribution of title lengths in characters\");"
   ]
  },
  {
   "cell_type": "code",
   "execution_count": 11,
   "id": "d22d7bca-4a5f-422f-8ca1-fcd3a2675dbe",
   "metadata": {},
   "outputs": [
    {
     "data": {
      "text/plain": [
       "(2752, 20904)"
      ]
     },
     "execution_count": 11,
     "metadata": {},
     "output_type": "execute_result"
    }
   ],
   "source": [
    "#Nothing out of the ordinary. Lets look at words. \n",
    "#It would make a lot of sense to get rid of the subreddit names and tl;dr expressions. \n",
    "#But first lets take a general look \n",
    "#I think it makes more sense to look at text and titles together. So lets transform them separately \n",
    "#and then merge the datasets\n",
    "cvec=CountVectorizer(stop_words= 'english')\n",
    "X=df['selftext']\n",
    "Z=df['title']\n",
    "cvec.fit(X)\n",
    "X_t=cvec.transform(X)\n",
    "X_df = pd.DataFrame(X_t.todense(), \n",
    "                          columns=cvec.get_feature_names_out())\n",
    "cvec.fit(Z)\n",
    "Z_t=cvec.transform(Z)\n",
    "Z_df = pd.DataFrame(Z_t.todense(), \n",
    "                          columns=cvec.get_feature_names_out())\n",
    "dff=pd.concat([X_df,Z_df],axis=1)\n",
    "dff.shape"
   ]
  },
  {
   "cell_type": "code",
   "execution_count": 12,
   "id": "87c42b6d-c4a5-47d1-8cad-224dbebbeae3",
   "metadata": {},
   "outputs": [
    {
     "data": {
      "text/plain": [
       "just            5299\n",
       "like            5251\n",
       "don             3833\n",
       "said            3694\n",
       "time            3610\n",
       "told            3458\n",
       "know            3245\n",
       "want            3028\n",
       "feel            2884\n",
       "really          2749\n",
       "ve              2628\n",
       "didn            2601\n",
       "friends         2281\n",
       "relationship    2204\n",
       "got             2138\n",
       "dtype: int64"
      ]
     },
     "execution_count": 12,
     "metadata": {},
     "output_type": "execute_result"
    }
   ],
   "source": [
    "dff.sum().sort_values(ascending = False).head(15)\n",
    "#A lot of this needs to go. don, ve,didn, relationship (because it is the name of subreddit)."
   ]
  },
  {
   "cell_type": "code",
   "execution_count": 26,
   "id": "d022b3ab-31fe-4dbe-a746-8521a527bd42",
   "metadata": {},
   "outputs": [],
   "source": [
    "#This is ugly way to do stopwords\n",
    "sw_list=stopwords.words('english')\n",
    "for i in ['don','amp','x200b','ve','didn', 'relationship', 'relationships','aita','wibta','aitah','wibtah','tldr','tl','dr','asshole']:\n",
    "    sw_list.append(i)\n",
    "#sw_list"
   ]
  },
  {
   "cell_type": "code",
   "execution_count": 27,
   "id": "150c3a5d-a856-4c05-acfe-f37d3c7d05b3",
   "metadata": {},
   "outputs": [
    {
     "data": {
      "text/plain": [
       "feel       2884\n",
       "really     2749\n",
       "even       2436\n",
       "friends    2281\n",
       "got        2138\n",
       "things     2113\n",
       "go         2100\n",
       "also       2051\n",
       "back       2042\n",
       "friend     1999\n",
       "never      1870\n",
       "going      1821\n",
       "think      1787\n",
       "work       1737\n",
       "still      1717\n",
       "dtype: int64"
      ]
     },
     "execution_count": 27,
     "metadata": {},
     "output_type": "execute_result"
    }
   ],
   "source": [
    "cvec=CountVectorizer(stop_words= sw_list,max_df=0.5,min_df=0.01)\n",
    "X=df['selftext']\n",
    "Z=df['title']\n",
    "cvec.fit(X)\n",
    "X_t=cvec.transform(X)\n",
    "X_df = pd.DataFrame(X_t.todense(), \n",
    "                          columns=cvec.get_feature_names_out())\n",
    "cvec.fit(Z)\n",
    "Z_t=cvec.transform(Z)\n",
    "Z_df = pd.DataFrame(Z_t.todense(), \n",
    "                          columns=cvec.get_feature_names_out())\n",
    "dff=pd.concat([X_df,Z_df],axis=1)\n",
    "dff.sum().sort_values(ascending = False).head(15)\n",
    "#Looks pretty generic, but these are subreddits with relatively long posts, so it is expected. \n",
    "#I think I will very likely implement max_df in the future, after modeling things once or twice. "
   ]
  },
  {
   "cell_type": "code",
   "execution_count": 22,
   "id": "c797aecf-8408-43e2-b163-3fd680bf4fab",
   "metadata": {},
   "outputs": [
    {
     "data": {
      "image/png": "[encoded data removed]",
      "text/plain": [
       "<Figure size 432x288 with 1 Axes>"
      ]
     },
     "metadata": {
      "needs_background": "light"
     },
     "output_type": "display_data"
    }
   ],
   "source": [
    "dff.sum().sort_values(ascending = False).head(15).plot(kind='barh');"
   ]
  },
  {
   "cell_type": "code",
   "execution_count": 16,
   "id": "009c8d11-e6f0-4cb3-b010-83587b456bbc",
   "metadata": {},
   "outputs": [],
   "source": [
    "#I think it is difficult to do any further EDA before looking at the models. \n",
    "#Overall I am happy with my data and want to take a look at the model results. \n",
    "#dff.to_csv('data/vectorised_words.csv',index=False)\n",
    "#this took a lot of time. I will comment this to avoid useless work.\n",
    "#It gets extra bad if you run two following cells, dff balloons to 420,000 columns and\n",
    "#then you try to save it into csv"
   ]
  },
  {
   "cell_type": "code",
   "execution_count": 17,
   "id": "a2d6a572-54a0-4cb9-a735-8244ff185f7d",
   "metadata": {},
   "outputs": [
    {
     "data": {
      "text/plain": [
       "feel like        1036\n",
       "even though       361\n",
       "best friend       326\n",
       "felt like         269\n",
       "months ago        234\n",
       "years ago         225\n",
       "first time        204\n",
       "feels like        201\n",
       "mental health     176\n",
       "next day          175\n",
       "high school       174\n",
       "one day           165\n",
       "long distance     162\n",
       "every time        159\n",
       "year old          158\n",
       "dtype: int64"
      ]
     },
     "execution_count": 17,
     "metadata": {},
     "output_type": "execute_result"
    }
   ],
   "source": [
    "#Just curious\n",
    "cvec=CountVectorizer(ngram_range=(2,2),stop_words=sw_list)\n",
    "cvec.fit(X)\n",
    "X_t=cvec.transform(X)\n",
    "X_df = pd.DataFrame(X_t.todense(), \n",
    "                          columns=cvec.get_feature_names_out())\n",
    "cvec.fit(Z)\n",
    "Z_t=cvec.transform(Z)\n",
    "Z_df = pd.DataFrame(Z_t.todense(), \n",
    "                          columns=cvec.get_feature_names_out())\n",
    "dff=pd.concat([X_df,Z_df],axis=1)\n",
    "dff.sum().sort_values(ascending = False).head(15)\n",
    "#&amp;#x200B; is some sort of formatting. Lets get rid of it by \n",
    "#retroactively adding it to the stopwords"
   ]
  },
  {
   "cell_type": "code",
   "execution_count": 36,
   "id": "7a4401ec-0913-4c9b-a6b4-ce0d1bdd1e9c",
   "metadata": {},
   "outputs": [
    {
     "data": {
      "text/plain": [
       "long story short          61\n",
       "makes feel like           49\n",
       "get back together         43\n",
       "mental health issues      31\n",
       "spend time together       28\n",
       "something along lines     28\n",
       "couple weeks ago          27\n",
       "english first language    26\n",
       "couple months ago         24\n",
       "one best friends          23\n",
       "also feel like            23\n",
       "two years ago             21\n",
       "time feel like            20\n",
       "two weeks ago             18\n",
       "friend let call           18\n",
       "dtype: int64"
      ]
     },
     "execution_count": 36,
     "metadata": {},
     "output_type": "execute_result"
    }
   ],
   "source": [
    "cvec=CountVectorizer(ngram_range=(3,3),stop_words=sw_list)\n",
    "cvec.fit(X)\n",
    "X_t=cvec.transform(X)\n",
    "X_df = pd.DataFrame(X_t.todense(), \n",
    "                          columns=cvec.get_feature_names_out())\n",
    "cvec.fit(Z)\n",
    "Z_t=cvec.transform(Z)\n",
    "Z_df = pd.DataFrame(Z_t.todense(), \n",
    "                          columns=cvec.get_feature_names_out())\n",
    "dff=pd.concat([X_df,Z_df],axis=1)\n",
    "dff.sum().sort_values(ascending = False).head(15)\n",
    "#x200b amp x200b and amp x200b amp appeared again. Other stuff looks normal.\n"
   ]
  },
  {
   "cell_type": "code",
   "execution_count": 37,
   "id": "90edd965-0217-4a03-8aee-829613c45d78",
   "metadata": {},
   "outputs": [
    {
     "data": {
      "image/png": "[encoded data removed]",
      "text/plain": [
       "<Figure size 432x288 with 1 Axes>"
      ]
     },
     "metadata": {
      "needs_background": "light"
     },
     "output_type": "display_data"
    }
   ],
   "source": [
    "dff.sum().sort_values(ascending = False).head(15).plot(kind='barh');"
   ]
  },
  {
   "cell_type": "code",
   "execution_count": 34,
   "id": "e7e661a4-98f3-449c-8831-a012de3b61ca",
   "metadata": {},
   "outputs": [
    {
     "data": {
      "text/plain": [
       "(2752, 4219)"
      ]
     },
     "execution_count": 34,
     "metadata": {},
     "output_type": "execute_result"
    }
   ],
   "source": [
    "#I want a dataset with less words. I want to exclude words that appear in more than 50% of the posts \n",
    "#and also ones that appeared in less than 1% of the posts/titles. \n",
    "cvec=CountVectorizer(stop_words= sw_list,max_df=0.5,min_df=0.003)\n",
    "cvec.fit(X)\n",
    "X_t=cvec.transform(X)\n",
    "X_df = pd.DataFrame(X_t.todense(), \n",
    "                          columns=cvec.get_feature_names_out())\n",
    "cvec.fit(Z)\n",
    "Z_t=cvec.transform(Z)\n",
    "Z_df = pd.DataFrame(Z_t.todense(), \n",
    "                          columns=cvec.get_feature_names_out())\n",
    "dff=pd.concat([X_df,Z_df],axis=1)\n",
    "dff.to_csv('data/words_few.csv',index=False)\n",
    "\n",
    "dff.sum().sort_values(ascending = False).head(15)\n",
    "dff.shape"
   ]
  },
  {
   "cell_type": "code",
   "execution_count": 24,
   "id": "a26a359d-7252-4f5b-b602-c0d8a81e9734",
   "metadata": {},
   "outputs": [
    {
     "data": {
      "image/png": "[encoded data removed]",
      "text/plain": [
       "<Figure size 432x288 with 1 Axes>"
      ]
     },
     "metadata": {
      "needs_background": "light"
     },
     "output_type": "display_data"
    }
   ],
   "source": [
    "dff.sum().sort_values(ascending = False).head(15).plot(kind='barh');"
   ]
  },
  {
   "cell_type": "code",
   "execution_count": null,
   "id": "2a66b89b-c092-458e-810f-4788a327cd60",
   "metadata": {},
   "outputs": [],
   "source": []
  }
 ],
 "metadata": {
  "kernelspec": {
   "display_name": "Python 3 (ipykernel)",
   "language": "python",
   "name": "python3"
  },
  "language_info": {
   "codemirror_mode": {
    "name": "ipython",
    "version": 3
   },
   "file_extension": ".py",
   "mimetype": "text/x-python",
   "name": "python",
   "nbconvert_exporter": "python",
   "pygments_lexer": "ipython3",
   "version": "3.9.12"
  }
 },
 "nbformat": 4,
 "nbformat_minor": 5
}
